{
 "cells": [
  {
   "cell_type": "markdown",
   "id": "fb9a2941",
   "metadata": {},
   "source": [
    "### Метрики точности модели классификации"
   ]
  },
  {
   "cell_type": "code",
   "execution_count": 1,
   "id": "a7f2226e",
   "metadata": {},
   "outputs": [
    {
     "name": "stdout",
     "output_type": "stream",
     "text": [
      "[[561  11]\n",
      " [ 63  32]]\n"
     ]
    }
   ],
   "source": [
    "from sklearn.metrics import classification_report, confusion_matrix\n",
    "from sklearn.neighbors import KNeighborsClassifier\n",
    "from sklearn.model_selection import train_test_split\n",
    "import pandas as pd\n",
    "import matplotlib.pyplot as plt\n",
    "\n",
    "churn_df = pd.read_csv('telecom_churn_clean.csv')\n",
    "X = churn_df[['total_day_charge','total_eve_charge']].values\n",
    "y = churn_df['churn'].values\n",
    "knn = KNeighborsClassifier(n_neighbors=7)\n",
    "\n",
    "X_train, X_test, y_train, y_test = train_test_split(X, y, test_size=0.2, random_state=23)\n",
    "knn.fit(X_train, y_train)\n",
    "y_pred = knn.predict(X_test)\n",
    "print(confusion_matrix(y_test, y_pred))\n"
   ]
  },
  {
   "cell_type": "code",
   "execution_count": 2,
   "id": "1b8bccb4",
   "metadata": {},
   "outputs": [
    {
     "name": "stdout",
     "output_type": "stream",
     "text": [
      "              precision    recall  f1-score   support\n",
      "\n",
      "           0       0.90      0.98      0.94       572\n",
      "           1       0.74      0.34      0.46        95\n",
      "\n",
      "    accuracy                           0.89       667\n",
      "   macro avg       0.82      0.66      0.70       667\n",
      "weighted avg       0.88      0.89      0.87       667\n",
      "\n"
     ]
    }
   ],
   "source": [
    "print(classification_report(y_test, y_pred))\n"
   ]
  }
 ],
 "metadata": {
  "kernelspec": {
   "display_name": "Python 3",
   "language": "python",
   "name": "python3"
  },
  "language_info": {
   "codemirror_mode": {
    "name": "ipython",
    "version": 3
   },
   "file_extension": ".py",
   "mimetype": "text/x-python",
   "name": "python",
   "nbconvert_exporter": "python",
   "pygments_lexer": "ipython3",
   "version": "3.11.9"
  }
 },
 "nbformat": 4,
 "nbformat_minor": 5
}
